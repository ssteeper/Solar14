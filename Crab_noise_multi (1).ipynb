{
 "cells": [
  {
   "cell_type": "code",
   "execution_count": 268,
   "metadata": {
    "collapsed": false
   },
   "outputs": [],
   "source": [
    "from __future__ import division\n",
    "%matplotlib tk\n",
    "\n",
    "import os, sys, time\n",
    "import h5py as hp\n",
    "import numpy as np\n",
    "import matplotlib.pyplot as plt\n",
    "\n",
    "# Added by Themis\n",
    "import scipy\n",
    "sys.path.append('/Applications/anaconda/pkgs/')\n",
    "\n",
    "from scipy.constants import m_p, c, e\n",
    "from mpl_toolkits.mplot3d import Axes3D\n",
    "\n",
    "from PyHEADTAIL.particles.slicing import UniformBinSlicer\n",
    "from PyHEADTAIL.particles.generators import Gaussian6D, MatchRFBucket6D, ImportDistribution\n",
    "from PyHEADTAIL.trackers.detuners import Chromaticity, AmplitudeDetuning\n",
    "from PyHEADTAIL.trackers.transverse_tracking import TransverseMap\n",
    "from PyHEADTAIL.trackers.simple_long_tracking import RFSystems, LinearMap\n",
    "from PyHEADTAIL.monitors.monitors import BunchMonitor, SliceMonitor, ParticleMonitor\n",
    "from PyHEADTAIL.feedback.transverse_damper import TransverseDamper\n",
    "from PyHEADTAIL.impedances.wakes import CircularResonator, WakeTable, WakeField"
   ]
  },
  {
   "cell_type": "code",
   "execution_count": 269,
   "metadata": {
    "collapsed": false
   },
   "outputs": [],
   "source": [
    "plt.close('all')"
   ]
  },
  {
   "cell_type": "code",
   "execution_count": 270,
   "metadata": {
    "collapsed": false
   },
   "outputs": [],
   "source": [
    "n_turns = 100000\n",
    "decTurns = 100 # how often to record data\n",
    "\n",
    "gamma          = 7460.5232328\n",
    "p0             = m_p*c*np.sqrt(gamma**2 - 1)\n",
    "beta           = np.sqrt(1 - 1/gamma**2)\n",
    "circumference  = 26658.883"
   ]
  },
  {
   "cell_type": "code",
   "execution_count": 271,
   "metadata": {
    "collapsed": false
   },
   "outputs": [],
   "source": [
    "# CREATE TRANSVERSE MAP\n",
    "# =====================\n",
    "n_segments     = 1\n",
    "s              = np.arange(0, n_segments + 1) * circumference / n_segments\n",
    "alpha_x        = 0 * np.ones(n_segments)\n",
    "beta_x         = 65.9756337546 * np.ones(n_segments)\n",
    "D_x            = 0 * np.ones(n_segments)\n",
    "alpha_y        = 0 * np.ones(n_segments)\n",
    "beta_y         = 71.5255058456 * np.ones(n_segments)\n",
    "D_y            = 0 * np.ones(n_segments)\n",
    "\n",
    "Q_x            = 62.31\n",
    "Q_y            = 60.32\n",
    "\n",
    "Qp_x           = 10\n",
    "Qp_y           = 10\n",
    "\n",
    "app_x          = 3e-8\n",
    "app_y          = 3e-8\n",
    "app_xy         = 0 #-2.25e-8\n",
    "\n",
    "transverse_map = TransverseMap(\n",
    "    circumference, s, alpha_x, beta_x, D_x, alpha_y, beta_y, D_y, Q_x, Q_y,\n",
    "    Chromaticity(Qp_x, Qp_y),\n",
    "    AmplitudeDetuning(app_x, app_y, app_xy))"
   ]
  },
  {
   "cell_type": "code",
   "execution_count": 272,
   "metadata": {
    "collapsed": false
   },
   "outputs": [],
   "source": [
    "# CREATE LONGITUDINAL MAP\n",
    "# =======================\n",
    "alpha           = 0.0003225\n",
    "Q_s             = 0.002044761458\n",
    "h1, h2          = 35640, 71280\n",
    "V1, V2          = 16e6, 8e6\n",
    "dphi1, dphi2    = 0, np.pi\n",
    "p_increment     = 0 * e/c * circumference/(beta*c)\n",
    "\n",
    "longitudinal_map = LinearMap([alpha], circumference, Q_s)"
   ]
  },
  {
   "cell_type": "code",
   "execution_count": 273,
   "metadata": {
    "collapsed": false
   },
   "outputs": [],
   "source": [
    "# CREATE DAMPER\n",
    "# =============\n",
    "dampingrate_x = 20\n",
    "dampingrate_y = 20\n",
    "damper = TransverseDamper(dampingrate_x, dampingrate_y)"
   ]
  },
  {
   "cell_type": "code",
   "execution_count": 274,
   "metadata": {
    "collapsed": false
   },
   "outputs": [],
   "source": [
    "# CREATE BEAM\n",
    "# ===========\n",
    "macroparticlenumber = 100000\n",
    "\n",
    "charge    = e\n",
    "mass      = m_p\n",
    "intensity = 1.5e11\n",
    "\n",
    "R         = circumference/(2*np.pi)\n",
    "eta       = alpha-1/gamma**2\n",
    "beta_z    = np.abs(eta)*R/Q_s\n",
    "epsn_x    = 2.5e-6\n",
    "epsn_y    = 2.5e-6\n",
    "epsn_z    = 2.5\n",
    "sigma_z   = 0.075\n",
    "\n",
    "sigma_x   = np.sqrt(epsn_x/(beta*gamma) * beta_x[0])\n",
    "sigma_xp  = sigma_x/beta_x[0]\n",
    "sigma_y   = np.sqrt(epsn_y/(beta*gamma) * beta_y[0])\n",
    "sigma_yp  = sigma_y/beta_y[0]\n",
    "sigma_dp  = sigma_z/beta_z\n",
    "epsn_z    = 4*np.pi * p0/e * sigma_z*sigma_dp\n",
    "\n",
    "bunch     = Gaussian6D(\n",
    "    macroparticlenumber, intensity, charge, mass, circumference, gamma,\n",
    "    sigma_x, sigma_xp, sigma_y, sigma_yp, sigma_z, sigma_dp\n",
    "    ).generate()\n",
    "\n",
    "xoffset = 0e-4\n",
    "yoffset = 0e-4\n",
    "bunch.x += xoffset\n",
    "bunch.y += yoffset\n",
    "\n",
    "import pickle\n",
    "afile = open('./../../../Desktop/data/bunch1', 'wb')\n",
    "pickle.dump(bunch, afile)\n",
    "afile.close()"
   ]
  },
  {
   "cell_type": "code",
   "execution_count": 275,
   "metadata": {
    "collapsed": false
   },
   "outputs": [],
   "source": [
    "plt.close('all')"
   ]
  },
  {
   "cell_type": "code",
   "execution_count": 276,
   "metadata": {
    "collapsed": false
   },
   "outputs": [
    {
     "name": "stdout",
     "output_type": "stream",
     "text": [
      "--> Begin tracking...\n",
      "0\n",
      "--> Done.\n"
     ]
    }
   ],
   "source": [
    "# ======================================================================\n",
    "# SET UP ACCELERATOR MAP AND START TRACKING\n",
    "# ++++++++++++++++++++++++++++++++++++++++++++++++++++++++++++++++++++++\n",
    "\n",
    "import csv\n",
    "\n",
    "for k in range(10):\n",
    "#     plt.ion()\n",
    "#     fig, ((ax1, ax2, ax3), (ax4, ax5, ax6), (ax7, ax8, ax9)) = plt.subplots(3,3, figsize=(16,9))\n",
    "\n",
    "    import pickle\n",
    "\n",
    "    #reload object from file\n",
    "    file2 = open('./../../../Desktop/data/bunch1', 'rb')\n",
    "    bunch = pickle.load(file2)\n",
    "    file2.close()\n",
    "\n",
    "    print '--> Begin tracking...'\n",
    "#     one_turn_map = [transverse_map[0]] + [longitudinal_map] #+ [damper] #+ [wakes]\n",
    "    z0 = bunch.z\n",
    "\n",
    "    meanX = np.zeros(n_turns/decTurns)\n",
    "    meanY = np.zeros(n_turns/decTurns)\n",
    "    meanXsq = np.zeros(n_turns/decTurns)\n",
    "    meanYsq = np.zeros(n_turns/decTurns)\n",
    "    emitX = np.zeros(n_turns/decTurns)\n",
    "    emitY = np.zeros(n_turns/decTurns)\n",
    "\n",
    "#     import scipy.io as sio\n",
    "#     mat=sio.loadmat('./../../../Desktop/data/noiseFiles_%s.mat'%k)\n",
    "#     noiseX = mat['noiseX'] # sigma of 8\n",
    "#     noiseY = mat['noiseY'] # sigma of 8\n",
    "\n",
    "    for i in range(n_turns):\n",
    "        t0 = time.clock()\n",
    "        for m in one_turn_map:\n",
    "            m.track(bunch)\n",
    "\n",
    "        # INJECT NOISE HERE AT EVERY TURN ON BEAM\n",
    "        # ======================================================\n",
    "\n",
    "        # Shaped Phase noise\n",
    "#         bunch.xp += 1.75e-11*noiseX[i]*np.cos(2*np.pi*400e6/(bunch.beta*c)*bunch.z)\n",
    "#         bunch.yp += 2e-11*noiseY[i]*np.cos(2*np.pi*400e6/(bunch.beta*c)*bunch.z)\n",
    "\n",
    "        # Shaped Amplitude noise\n",
    "#         bunch.xp += 2.66e-11*noiseX[i]*np.sin(2*np.pi*400e6/(bunch.beta*c)*bunch.z)\n",
    "#         bunch.yp += 3e-11*noiseY[i]*np.sin(2*np.pi*400e6/(bunch.beta*c)*bunch.z)\n",
    "\n",
    "        # Gaussian Phase noise\n",
    "        bunch.xp += np.random.normal(0, 2e-9)*np.cos(2*np.pi*400e6/(bunch.beta*c)*bunch.z)\n",
    "#         bunch.xp -= 2/dampingrate_x*np.mean(bunch.xp)\n",
    "#         bunch.yp += np.random.normal(0, 2.25e-9)*np.cos(2*np.pi*400e6/(bunch.beta*c)*bunch.z)\n",
    "\n",
    "        # Gaussian Amplitude noise\n",
    "#         bunch.xp += np.random.normal(0, 6e-9)*np.sin(2*np.pi*400e6/(bunch.beta*c)*bunch.z)\n",
    "#         bunch.yp += np.random.normal(0, 3.5e-9)*np.sin(2*np.pi*400e6/(bunch.beta*c)*bunch.z)\n",
    "        # ======================================================\n",
    "\n",
    "        if i%decTurns is  0:\n",
    "            meanX[i/decTurns] = np.mean(bunch.x)\n",
    "            meanY[i/decTurns] = np.mean(bunch.y)\n",
    "            meanXsq[i/decTurns] = np.mean(bunch.x**2)\n",
    "            meanYsq[i/decTurns] = np.mean(bunch.y**2)\n",
    "            emitX[i/decTurns] = bunch.epsn_x()\n",
    "            emitY[i/decTurns] = bunch.epsn_y()\n",
    "\n",
    "#             print 'turn #{:d}'.format(i)\n",
    "#             Jx = bunch.x**2 + (beta_x * bunch.xp)**2\n",
    "#             Jy = bunch.y**2 + (beta_y * bunch.yp)**2\n",
    "#             Jz = bunch.z**2 + (beta_z * bunch.dp)**2\n",
    "#             ax1.scatter(bunch.x, bunch.xp, c=Jz, lw=0.1)\n",
    "#             ax2.scatter(bunch.y, bunch.yp, c=Jz, lw=0.1)\n",
    "#             ax3.scatter(bunch.z, bunch.dp, c=Jz, lw=0.1)\n",
    "#             ax4.plot(i, np.mean(bunch.x), 'rx')\n",
    "#             ax4.plot(i, xoffset*np.exp(-(i+1)/50), 'k*')\n",
    "#             ax5.plot(i, np.mean(bunch.y), 'rx')\n",
    "#             ax5.plot(i, yoffset*np.exp(-(i+1)/50), 'k*')\n",
    "#             ax6.plot(i, np.mean(bunch.z), 'rx')\n",
    "#             ax7.plot(i, bunch.epsn_x()*1e6, 'gx')\n",
    "#             ax8.plot(i, bunch.epsn_y()*1e6, 'gx')\n",
    "#             ax9.plot(i, bunch.epsn_z(), 'gx')\n",
    "\n",
    "#             ax1.set_xlabel('x'); ax1.set_ylabel('xp')\n",
    "#             ax4.set_ylabel('Mean x position')\n",
    "#             ax7.set_xlabel('Turn'); ax7.set_ylabel('$\\epsilon_x [\\mu m]$')\n",
    "\n",
    "#             ax2.set_xlabel('y'); ax2.set_ylabel('yp')\n",
    "#             ax5.set_ylabel('Mean y position')\n",
    "#             ax8.set_xlabel('Turn'); ax8.set_ylabel('$\\epsilon_y [\\mu m]$')\n",
    "\n",
    "#             ax3.set_xlabel('s'); ax3.set_ylabel('$\\delta$')\n",
    "#             ax6.set_ylabel('Mean z position')\n",
    "#             ax9.set_xlabel('Turn'); ax9.set_ylabel('$\\epsilon_z$ [eVs]')\n",
    "\n",
    "#             [ax.set_xlim(-2e-3, 2e-3) for ax in (ax1, ax2)]\n",
    "#             [ax.set_ylim(-2e-5, 2e-5) for ax in (ax1, ax2)]\n",
    "#             ax3.set_xlim(-5e-1, 5e-1); ax3.set_ylim(-5e-4, 5e-4)\n",
    "#             plt.tight_layout()\n",
    "#             plt.draw()\n",
    "#             ax1.cla(); ax2.cla(); ax3.cla()\n",
    "\n",
    "    print k\n",
    "    dataExport = [meanX, meanY, meanXsq, meanYsq, emitX, emitY]\n",
    "    with open('./../../../Desktop/data/filelong_%s.txt'%k,'wb') as f:\n",
    "        out = csv.writer(f, delimiter=',')\n",
    "        out.writerows(zip(*dataExport))\n",
    "\n",
    "print '--> Done.'\n",
    "\n",
    "# plt.close('all')\n",
    "\n"
   ]
  },
  {
   "cell_type": "code",
   "execution_count": 277,
   "metadata": {
    "collapsed": false
   },
   "outputs": [
    {
     "name": "stdout",
     "output_type": "stream",
     "text": [
      "30.3678527296\n"
     ]
    }
   ],
   "source": [
    "# Jx = (bunch.x**2 + (beta_x * bunch.xp)**2)/(2*beta_x)\n",
    "# Jy = (bunch.y**2 + (beta_y * bunch.yp)**2)/(2*beta_y)\n",
    "# dq = app_x*Jx/bunch.p0+app_xy*Jy/bunch.p0+Qp_x*bunch.dp\n",
    "\n",
    "# print np.std(dq)*11245\n",
    "\n",
    "# dataExport = [dq]\n",
    "# with open('./../../../Desktop/data/dq.txt','wb') as f:\n",
    "#     out = csv.writer(f, delimiter=',')\n",
    "#     out.writerows(zip(*dataExport))\n",
    "\n",
    "# Expected damper improvement NEEDS TO BE UPDATED!\n",
    "\n",
    "# rho, bin_edges = np.histogram((dq + .31)*11245, 100)\n",
    "# deltaF =  bin_edges[2]-bin_edges[1]\n",
    "# rho = rho/np.sum(rho)/deltaF;\n",
    "# Hbeam = rho/4j;\n",
    "\n",
    "# gain = 11245/(dampingrate_x); # gain = 2/damping rate. Damping rate = 10\n",
    "\n",
    "# integrand = rho/(np.abs(1+1j*gain*Hbeam))**2;\n",
    "# corrFactor = np.sum(integrand)*deltaF\n",
    "# print corrFactor"
   ]
  },
  {
   "cell_type": "code",
   "execution_count": 278,
   "metadata": {
    "collapsed": true
   },
   "outputs": [],
   "source": [
    "# dataExport = [bunch.xp]\n",
    "# with open('./../../../Desktop/data/initialXphighNoise.txt','wb') as f:\n",
    "#     out = csv.writer(f, delimiter=',')\n",
    "#     out.writerows(zip(*dataExport))"
   ]
  },
  {
   "cell_type": "code",
   "execution_count": 279,
   "metadata": {
    "collapsed": false
   },
   "outputs": [
    {
     "data": {
      "text/plain": [
       "0"
      ]
     },
     "execution_count": 279,
     "metadata": {},
     "output_type": "execute_result"
    }
   ],
   "source": [
    "import os\n",
    "os.system('say \"your program has finished\"')"
   ]
  }
 ],
 "metadata": {
  "kernelspec": {
   "display_name": "Python 2",
   "language": "python",
   "name": "python2"
  },
  "language_info": {
   "codemirror_mode": {
    "name": "ipython",
    "version": 2
   },
   "file_extension": ".py",
   "mimetype": "text/x-python",
   "name": "python",
   "nbconvert_exporter": "python",
   "pygments_lexer": "ipython2",
   "version": "2.7.9"
  }
 },
 "nbformat": 4,
 "nbformat_minor": 0
}
